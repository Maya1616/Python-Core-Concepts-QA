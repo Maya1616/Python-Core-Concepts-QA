{
  "nbformat": 4,
  "nbformat_minor": 0,
  "metadata": {
    "colab": {
      "provenance": [],
      "authorship_tag": "ABX9TyORJKi2KonRnYXNlWUoKsKP",
      "include_colab_link": true
    },
    "kernelspec": {
      "name": "python3",
      "display_name": "Python 3"
    },
    "language_info": {
      "name": "python"
    }
  },
  "cells": [
    {
      "cell_type": "markdown",
      "metadata": {
        "id": "view-in-github",
        "colab_type": "text"
      },
      "source": [
        "<a href=\"https://colab.research.google.com/github/Maya1616/Python-Core-Concepts-QA/blob/main/Files%2C_Exception_Handling%2C_Logging_and_Memory_Management_Questions_with_Answers.ipynb\" target=\"_parent\"><img src=\"https://colab.research.google.com/assets/colab-badge.svg\" alt=\"Open In Colab\"/></a>"
      ]
    },
    {
      "cell_type": "markdown",
      "source": [
        "#Files, Exception Handling, Logging and Memory Management"
      ],
      "metadata": {
        "id": "UEbaacB6-ZGs"
      }
    },
    {
      "cell_type": "markdown",
      "source": [
        "#1. What is the difference between interpreted and compiled languages?"
      ],
      "metadata": {
        "id": "p4Odki2i-n7i"
      }
    },
    {
      "cell_type": "markdown",
      "source": [
        "Compiled language: Code is translated into machine code before execution (e.g., C, C++). Faster execution but needs compilation step.\n",
        "\n",
        "Interpreted language: Code is executed line by line by an interpreter (e.g., Python). Slower but more flexible."
      ],
      "metadata": {
        "id": "FNndGVsQ-y7f"
      }
    },
    {
      "cell_type": "markdown",
      "source": [
        "#2. What is exception handling in Python?"
      ],
      "metadata": {
        "id": "cI24jQQT-8Pr"
      }
    },
    {
      "cell_type": "markdown",
      "source": [
        "It is a mechanism to handle runtime errors using try, except, else, and finally blocks to prevent program crashes."
      ],
      "metadata": {
        "id": "QOJ3OqrT_HBR"
      }
    },
    {
      "cell_type": "markdown",
      "source": [
        "# 3. What is the purpose of the finally block in exception handling?"
      ],
      "metadata": {
        "id": "gZ5r91tA_UG_"
      }
    },
    {
      "cell_type": "markdown",
      "source": [
        "Code inside finally always runs, whether an exception occurs or not. Useful for cleanup (like closing files)."
      ],
      "metadata": {
        "id": "OFi8Vlo__aVi"
      }
    },
    {
      "cell_type": "markdown",
      "source": [
        "# 4. What is logging in Python?"
      ],
      "metadata": {
        "id": "8jKqRsuC_gp9"
      }
    },
    {
      "cell_type": "markdown",
      "source": [
        "Logging is the process of recording program events, errors, or status information using the logging module."
      ],
      "metadata": {
        "id": "iOdjtcdD_nmo"
      }
    },
    {
      "cell_type": "markdown",
      "source": [
        "# 5. What is the significance of the __del__ method in Python?"
      ],
      "metadata": {
        "id": "PlkO_cvt_tKa"
      }
    },
    {
      "cell_type": "markdown",
      "source": [
        "__del__ is a destructor method that is called when an object is about to be destroyed to release resources."
      ],
      "metadata": {
        "id": "Bgps1grm_0vW"
      }
    },
    {
      "cell_type": "markdown",
      "source": [
        "#6. What is the difference between import and from ... import in Python?"
      ],
      "metadata": {
        "id": "EfzLKV38_96q"
      }
    },
    {
      "cell_type": "markdown",
      "source": [
        "import module: Imports the whole module.\n",
        "\n",
        "from module import x: Imports only specific functions/classes."
      ],
      "metadata": {
        "id": "vW1b-WRYACpp"
      }
    },
    {
      "cell_type": "markdown",
      "source": [
        "#7. How can you handle multiple exceptions in Python?"
      ],
      "metadata": {
        "id": "D3X-6jQEACo8"
      }
    },
    {
      "cell_type": "code",
      "source": [
        "#By using multiple except blocks or a single block with a tuple\n",
        "try:\n",
        "    ...\n",
        "except (ValueError, TypeError) as e:\n",
        "    print(e)\n"
      ],
      "metadata": {
        "id": "Rd7b60rJAvPC"
      },
      "execution_count": null,
      "outputs": []
    },
    {
      "cell_type": "markdown",
      "source": [
        "#8. What is the purpose of the with statement when handling files in Python?"
      ],
      "metadata": {
        "id": "neLqp5HuA-xy"
      }
    },
    {
      "cell_type": "markdown",
      "source": [
        "Ensures files are automatically closed after use, even if an error occurs."
      ],
      "metadata": {
        "id": "LFDAmfuTBDcT"
      }
    },
    {
      "cell_type": "markdown",
      "source": [
        "#9. What is the difference between multithreading and multiprocessing?"
      ],
      "metadata": {
        "id": "cRYNnjELBLUY"
      }
    },
    {
      "cell_type": "markdown",
      "source": [
        "Multithreading: Multiple threads in the same process (shared memory).\n",
        "\n",
        "Multiprocessing: Multiple processes with separate memory spaces."
      ],
      "metadata": {
        "id": "FwOEcIG0BeUA"
      }
    },
    {
      "cell_type": "markdown",
      "source": [
        "#10. What are the advantages of using logging in a program?"
      ],
      "metadata": {
        "id": "xuQBI9xLBoIF"
      }
    },
    {
      "cell_type": "markdown",
      "source": [
        "Helps in debugging, monitoring, and maintaining code without using print statements."
      ],
      "metadata": {
        "id": "bxwyGeVPBwDA"
      }
    },
    {
      "cell_type": "markdown",
      "source": [
        "#11. What is memory management in Python?"
      ],
      "metadata": {
        "id": "YA90T3ukB1Rt"
      }
    },
    {
      "cell_type": "markdown",
      "source": [
        "Automatic allocation and deallocation of memory using Python’s memory manager and garbage collector."
      ],
      "metadata": {
        "id": "m3o0ovVRB5D9"
      }
    },
    {
      "cell_type": "markdown",
      "source": [
        "#12. What are the basic steps involved in exception handling in Python?"
      ],
      "metadata": {
        "id": "6h8AvbAiB8in"
      }
    },
    {
      "cell_type": "markdown",
      "source": [
        "Write risky code inside try block.\n",
        "\n",
        "Catch exceptions using except.\n",
        "\n",
        "Optionally use else for success case and finally for cleanup."
      ],
      "metadata": {
        "id": "SGR_p6UhCAmw"
      }
    },
    {
      "cell_type": "markdown",
      "source": [
        "#13. Why is memory management important in Python?"
      ],
      "metadata": {
        "id": "j3pwXz9DCKTl"
      }
    },
    {
      "cell_type": "markdown",
      "source": [
        "Prevents memory leaks, optimizes resource usage, and ensures program efficiency."
      ],
      "metadata": {
        "id": "UFnHEIDDCOUP"
      }
    },
    {
      "cell_type": "markdown",
      "source": [
        "#14. What is the role of try and except in exception handling?"
      ],
      "metadata": {
        "id": "_lCpzxi1CR_h"
      }
    },
    {
      "cell_type": "markdown",
      "source": [
        "try: Code that may raise an exception.\n",
        "\n",
        "except: Handles the exception if raised."
      ],
      "metadata": {
        "id": "Klzezp2ZCZek"
      }
    },
    {
      "cell_type": "markdown",
      "source": [
        "#15. How does Python’s garbage collection system work?"
      ],
      "metadata": {
        "id": "LCBeKGkcCdfH"
      }
    },
    {
      "cell_type": "markdown",
      "source": [
        "Uses reference counting and generational garbage collector to free unused memory."
      ],
      "metadata": {
        "id": "u6MMRVqOCrtV"
      }
    },
    {
      "cell_type": "markdown",
      "source": [
        "#16. What is the purpose of the else block in exception handling?"
      ],
      "metadata": {
        "id": "9YIlmPZbCvh2"
      }
    },
    {
      "cell_type": "markdown",
      "source": [
        "Runs only if no exceptions occur in the try block."
      ],
      "metadata": {
        "id": "XRAb_5bRC8Yd"
      }
    },
    {
      "cell_type": "markdown",
      "source": [
        "#17. What are the common logging levels in Python?"
      ],
      "metadata": {
        "id": "1pdcoM28DBw3"
      }
    },
    {
      "cell_type": "markdown",
      "source": [
        "DEBUG, INFO, WARNING, ERROR, CRITICAL."
      ],
      "metadata": {
        "id": "FoWbBIaUDHhy"
      }
    },
    {
      "cell_type": "markdown",
      "source": [
        "#18. What is the difference between os.fork() and multiprocessing in Python?"
      ],
      "metadata": {
        "id": "aF2UL-BcDNu2"
      }
    },
    {
      "cell_type": "markdown",
      "source": [
        "os.fork(): Works only on Unix/Linux; creates a child process.\n",
        "\n",
        "multiprocessing: Cross-platform, higher-level API for creating processes."
      ],
      "metadata": {
        "id": "sa7iPYseDSUv"
      }
    },
    {
      "cell_type": "markdown",
      "source": [
        "#19. What is the importance of closing a file in Python?"
      ],
      "metadata": {
        "id": "YgxUCLHXDaTj"
      }
    },
    {
      "cell_type": "markdown",
      "source": [
        "Releases system resources, prevents data corruption, ensures data is saved."
      ],
      "metadata": {
        "id": "sBdwJG-YDfDm"
      }
    },
    {
      "cell_type": "markdown",
      "source": [
        "#20. What is the difference between file.read() and file.readline() in Python?"
      ],
      "metadata": {
        "id": "A9p6W3Z_DiWP"
      }
    },
    {
      "cell_type": "markdown",
      "source": [
        "file.read(): Reads the entire file.\n",
        "\n",
        "file.readline(): Reads one line at a time."
      ],
      "metadata": {
        "id": "Le_nwnjMDtY0"
      }
    },
    {
      "cell_type": "markdown",
      "source": [
        "#21. What is the logging module in Python used for?"
      ],
      "metadata": {
        "id": "ReIHvVTAD2gR"
      }
    },
    {
      "cell_type": "markdown",
      "source": [
        "To generate logs (debug, info, warning, error, critical) for tracking program execution."
      ],
      "metadata": {
        "id": "WDXoux0PD9pk"
      }
    },
    {
      "cell_type": "markdown",
      "source": [
        "#22. What is the os module in Python used for in file handling?"
      ],
      "metadata": {
        "id": "GMxDF5EtEBo2"
      }
    },
    {
      "cell_type": "markdown",
      "source": [
        "Provides functions to interact with the operating system (e.g., file paths, directory handling, process management)."
      ],
      "metadata": {
        "id": "MN0iFyrbEO9k"
      }
    },
    {
      "cell_type": "markdown",
      "source": [
        "#23. What are the challenges associated with memory management in Python?"
      ],
      "metadata": {
        "id": "49PX8rjUD2he"
      }
    },
    {
      "cell_type": "markdown",
      "source": [
        "Circular references, fragmentation, overhead of garbage collection."
      ],
      "metadata": {
        "id": "3fykOq-QFvfj"
      }
    },
    {
      "cell_type": "markdown",
      "source": [
        "#24. How do you raise an exception manually in Python?"
      ],
      "metadata": {
        "id": "IfpkbYWjFyhj"
      }
    },
    {
      "cell_type": "code",
      "source": [
        "#Using the raise keyword:\n",
        "raise ValueError(\"Invalid input\")\n"
      ],
      "metadata": {
        "colab": {
          "base_uri": "https://localhost:8080/",
          "height": 159
        },
        "id": "GHhS_6TiF9KA",
        "outputId": "cbb4bb22-a55c-4a5b-d251-3e184fe39903"
      },
      "execution_count": null,
      "outputs": [
        {
          "output_type": "error",
          "ename": "ValueError",
          "evalue": "Invalid input",
          "traceback": [
            "\u001b[0;31m---------------------------------------------------------------------------\u001b[0m",
            "\u001b[0;31mValueError\u001b[0m                                Traceback (most recent call last)",
            "\u001b[0;32m/tmp/ipython-input-3454101436.py\u001b[0m in \u001b[0;36m<cell line: 0>\u001b[0;34m()\u001b[0m\n\u001b[1;32m      1\u001b[0m \u001b[0;31m#Using the raise keyword:\u001b[0m\u001b[0;34m\u001b[0m\u001b[0;34m\u001b[0m\u001b[0m\n\u001b[0;32m----> 2\u001b[0;31m \u001b[0;32mraise\u001b[0m \u001b[0mValueError\u001b[0m\u001b[0;34m(\u001b[0m\u001b[0;34m\"Invalid input\"\u001b[0m\u001b[0;34m)\u001b[0m\u001b[0;34m\u001b[0m\u001b[0;34m\u001b[0m\u001b[0m\n\u001b[0m",
            "\u001b[0;31mValueError\u001b[0m: Invalid input"
          ]
        }
      ]
    },
    {
      "cell_type": "markdown",
      "source": [
        "#25. Why is it important to use multithreading in certain applications?"
      ],
      "metadata": {
        "id": "RYkhH59gGghJ"
      }
    },
    {
      "cell_type": "markdown",
      "source": [
        "Useful for I/O-bound tasks, concurrency, improving responsiveness (e.g., web servers, GUI apps)."
      ],
      "metadata": {
        "id": "xW2HvfWDGimS"
      }
    },
    {
      "cell_type": "markdown",
      "source": [
        "#Practical Qns and its Answers"
      ],
      "metadata": {
        "id": "QjL6WACuGpmd"
      }
    },
    {
      "cell_type": "markdown",
      "source": [
        "#1. How can you open a file for writing in Python and write a string to it?"
      ],
      "metadata": {
        "id": "v8Axb85kGxv5"
      }
    },
    {
      "cell_type": "code",
      "source": [
        "with open(\"example.txt\", \"w\") as file:\n",
        "    file.write(\"Hello, world!\")\n"
      ],
      "metadata": {
        "id": "kM2MUczgIxS2"
      },
      "execution_count": null,
      "outputs": []
    },
    {
      "cell_type": "markdown",
      "source": [
        "#2. Write a Python program to read the contents of a file and print each line."
      ],
      "metadata": {
        "id": "CbISoQJBI0VY"
      }
    },
    {
      "cell_type": "code",
      "source": [
        "with open(\"example.txt\", \"r\") as file:\n",
        "    for line in file:\n",
        "        print(line.strip())\n"
      ],
      "metadata": {
        "colab": {
          "base_uri": "https://localhost:8080/"
        },
        "id": "7er2UPHzI3Bg",
        "outputId": "8864dfef-2e1d-47e9-baef-edd4e6c149a3"
      },
      "execution_count": null,
      "outputs": [
        {
          "output_type": "stream",
          "name": "stdout",
          "text": [
            "Hello, world!\n"
          ]
        }
      ]
    },
    {
      "cell_type": "markdown",
      "source": [
        "#3. How would you handle a case where the file doesn’t exist while trying to open it for reading?"
      ],
      "metadata": {
        "id": "PzUfqWEeJH6Q"
      }
    },
    {
      "cell_type": "code",
      "source": [
        "try:\n",
        "    with open(\"nonexistent.txt\", \"r\") as file:\n",
        "        content = file.read()\n",
        "except FileNotFoundError:\n",
        "    print(\"The file does not exist.\")\n"
      ],
      "metadata": {
        "colab": {
          "base_uri": "https://localhost:8080/"
        },
        "id": "hFTyOQSOJL3L",
        "outputId": "7d678a71-e64a-4a8c-df0f-e13011a336c5"
      },
      "execution_count": null,
      "outputs": [
        {
          "output_type": "stream",
          "name": "stdout",
          "text": [
            "The file does not exist.\n"
          ]
        }
      ]
    },
    {
      "cell_type": "markdown",
      "source": [
        "#4. Write a Python script that reads from one file and writes its content to another file."
      ],
      "metadata": {
        "id": "vE6RCn-tJPU0"
      }
    },
    {
      "cell_type": "code",
      "source": [
        "with open(\"source.txt\", \"r\") as src, open(\"destination.txt\", \"w\") as dest:\n",
        "    for line in src:\n",
        "        dest.write(line)\n"
      ],
      "metadata": {
        "id": "v6d3zZDGJSxt"
      },
      "execution_count": null,
      "outputs": []
    },
    {
      "cell_type": "markdown",
      "source": [
        "#5. How would you catch and handle division by zero error in Python?"
      ],
      "metadata": {
        "id": "evTVJEYaJW-P"
      }
    },
    {
      "cell_type": "code",
      "source": [
        "try:\n",
        "    result = 10 / 0\n",
        "except ZeroDivisionError:\n",
        "    print(\"Cannot divide by zero.\")\n"
      ],
      "metadata": {
        "colab": {
          "base_uri": "https://localhost:8080/"
        },
        "id": "sB2kMbzOJamR",
        "outputId": "d466f7cf-ee3b-4f6d-c343-d1d3af3ce9b0"
      },
      "execution_count": null,
      "outputs": [
        {
          "output_type": "stream",
          "name": "stdout",
          "text": [
            "Cannot divide by zero.\n"
          ]
        }
      ]
    },
    {
      "cell_type": "markdown",
      "source": [
        "#6. Write a Python program that logs an error message to a log file when a division by zero exception occurs."
      ],
      "metadata": {
        "id": "fSQ909riJebz"
      }
    },
    {
      "cell_type": "code",
      "source": [
        "import logging\n",
        "\n",
        "logging.basicConfig(filename=\"error.log\", level=logging.ERROR)\n",
        "try:\n",
        "    result = 10 / 0\n",
        "except ZeroDivisionError as e:\n",
        "    logging.error(f\"Division by zero occurred: {e}\")\n"
      ],
      "metadata": {
        "colab": {
          "base_uri": "https://localhost:8080/"
        },
        "id": "Vmd4MtJaJnp4",
        "outputId": "985fae32-937b-4bec-ea33-20ba04bdf1a4"
      },
      "execution_count": null,
      "outputs": [
        {
          "output_type": "stream",
          "name": "stderr",
          "text": [
            "ERROR:root:Division by zero occurred: division by zero\n"
          ]
        }
      ]
    },
    {
      "cell_type": "markdown",
      "source": [
        "#7. How do you log information at different levels (INFO, ERROR, WARNING) in Python using the logging module?"
      ],
      "metadata": {
        "id": "kk-Acb-TJtpL"
      }
    },
    {
      "cell_type": "code",
      "source": [
        "import logging\n",
        "\n",
        "logging.basicConfig(filename=\"app.log\", level=logging.DEBUG)\n",
        "logging.info(\"This is an info message\")\n",
        "logging.warning(\"This is a warning message\")\n",
        "logging.error(\"This is an error message\")\n"
      ],
      "metadata": {
        "colab": {
          "base_uri": "https://localhost:8080/"
        },
        "id": "0PtrJ1pLJzGV",
        "outputId": "dae04cef-f42e-478b-e8c6-a2c042512ca6"
      },
      "execution_count": null,
      "outputs": [
        {
          "output_type": "stream",
          "name": "stderr",
          "text": [
            "WARNING:root:This is a warning message\n",
            "ERROR:root:This is an error message\n"
          ]
        }
      ]
    },
    {
      "cell_type": "markdown",
      "source": [
        "#8. Write a program to handle file opening error using exception handling."
      ],
      "metadata": {
        "id": "WpeSCODyJ5cJ"
      }
    },
    {
      "cell_type": "code",
      "source": [
        "try:\n",
        "    with open(\"somefile.txt\", \"r\") as file:\n",
        "        content = file.read()\n",
        "except IOError as e:\n",
        "    print(f\"Error opening file: {e}\")\n"
      ],
      "metadata": {
        "colab": {
          "base_uri": "https://localhost:8080/"
        },
        "id": "RUWYSD4PJ8ua",
        "outputId": "649719c0-17c5-49a0-f839-8a929b493e65"
      },
      "execution_count": null,
      "outputs": [
        {
          "output_type": "stream",
          "name": "stdout",
          "text": [
            "Error opening file: [Errno 2] No such file or directory: 'somefile.txt'\n"
          ]
        }
      ]
    },
    {
      "cell_type": "markdown",
      "source": [
        "#9. How can you read a file line by line and store its content in a list in Python?"
      ],
      "metadata": {
        "id": "KMKDy6CGJ_KC"
      }
    },
    {
      "cell_type": "code",
      "source": [
        "with open(\"example.txt\", \"r\") as file:\n",
        "    lines = [line.strip() for line in file]\n",
        "print(lines)\n"
      ],
      "metadata": {
        "colab": {
          "base_uri": "https://localhost:8080/"
        },
        "id": "1vpTgkoMKCaE",
        "outputId": "513b9d17-e462-4f5f-9232-c765eb7cc0c4"
      },
      "execution_count": null,
      "outputs": [
        {
          "output_type": "stream",
          "name": "stdout",
          "text": [
            "['Hello, world!']\n"
          ]
        }
      ]
    },
    {
      "cell_type": "markdown",
      "source": [
        "#10. How can you append data to an existing file in Python?"
      ],
      "metadata": {
        "id": "CpfFQe0IKQ48"
      }
    },
    {
      "cell_type": "code",
      "source": [
        "with open(\"example.txt\", \"a\") as file:\n",
        "    file.write(\"\\nAppended line.\")\n"
      ],
      "metadata": {
        "id": "NrfZgOtYKUnd"
      },
      "execution_count": null,
      "outputs": []
    },
    {
      "cell_type": "markdown",
      "source": [
        "#11. Write a Python program that uses a try-except block to handle an error when attempting to access a dictionary key that doesn’t exist."
      ],
      "metadata": {
        "id": "X5xx3ctYKXxO"
      }
    },
    {
      "cell_type": "code",
      "source": [
        "my_dict = {\"a\": 1}\n",
        "try:\n",
        "    print(my_dict[\"b\"])\n",
        "except KeyError:\n",
        "    print(\"Key does not exist.\")\n"
      ],
      "metadata": {
        "colab": {
          "base_uri": "https://localhost:8080/"
        },
        "id": "LQMgQAvuKd9B",
        "outputId": "e41b044a-ff3d-4b4f-9543-90c3a4deca3b"
      },
      "execution_count": null,
      "outputs": [
        {
          "output_type": "stream",
          "name": "stdout",
          "text": [
            "Key does not exist.\n"
          ]
        }
      ]
    },
    {
      "cell_type": "markdown",
      "source": [
        "#12. Write a program that demonstrates using multiple except blocks to handle different types of exceptions."
      ],
      "metadata": {
        "id": "mdaKbanrKhNC"
      }
    },
    {
      "cell_type": "code",
      "source": [
        "try:\n",
        "    x = int(\"abc\")\n",
        "    y = 10 / 0\n",
        "except ValueError:\n",
        "    print(\"Value error occurred\")\n",
        "except ZeroDivisionError:\n",
        "    print(\"Division by zero occurred\")\n"
      ],
      "metadata": {
        "colab": {
          "base_uri": "https://localhost:8080/"
        },
        "id": "rr0nn3s7KmxF",
        "outputId": "8a040ab4-7393-4399-ebf3-eb9e49ab6995"
      },
      "execution_count": null,
      "outputs": [
        {
          "output_type": "stream",
          "name": "stdout",
          "text": [
            "Value error occurred\n"
          ]
        }
      ]
    },
    {
      "cell_type": "markdown",
      "source": [
        "#13. How would you check if a file exists before attempting to read it in Python?"
      ],
      "metadata": {
        "id": "0gZG94GKKpTX"
      }
    },
    {
      "cell_type": "code",
      "source": [
        "import os\n",
        "if os.path.exists(\"example.txt\"):\n",
        "    print(\"File exists\")\n",
        "else:\n",
        "    print(\"File does not exist\")\n"
      ],
      "metadata": {
        "colab": {
          "base_uri": "https://localhost:8080/"
        },
        "id": "XE_uEm4hKsjx",
        "outputId": "2f9cfcba-ab59-4dea-ba83-888a08b2f5e1"
      },
      "execution_count": null,
      "outputs": [
        {
          "output_type": "stream",
          "name": "stdout",
          "text": [
            "File exists\n"
          ]
        }
      ]
    },
    {
      "cell_type": "markdown",
      "source": [
        "#14. Write a program that uses the logging module to log both informational and error messages."
      ],
      "metadata": {
        "id": "TvziEEGvKu4B"
      }
    },
    {
      "cell_type": "code",
      "source": [
        "import logging\n",
        "\n",
        "logging.basicConfig(filename=\"app.log\", level=logging.DEBUG)\n",
        "logging.info(\"Program started\")\n",
        "try:\n",
        "    1 / 0\n",
        "except ZeroDivisionError:\n",
        "    logging.error(\"Division by zero error occurred\")\n"
      ],
      "metadata": {
        "colab": {
          "base_uri": "https://localhost:8080/"
        },
        "id": "XB1eDePSKzBE",
        "outputId": "8a9e230f-744f-473a-b6f5-93ae9da0ef17"
      },
      "execution_count": null,
      "outputs": [
        {
          "output_type": "stream",
          "name": "stderr",
          "text": [
            "ERROR:root:Division by zero error occurred\n"
          ]
        }
      ]
    },
    {
      "cell_type": "markdown",
      "source": [
        "#15. Write a Python program that prints the content of a file and handles the case when the file is empty."
      ],
      "metadata": {
        "id": "9_79jhvRK2RF"
      }
    },
    {
      "cell_type": "code",
      "source": [
        "with open(\"example.txt\", \"r\") as file:\n",
        "    content = file.read()\n",
        "if content:\n",
        "    print(content)\n",
        "else:\n",
        "    print(\"File is empty\")\n"
      ],
      "metadata": {
        "colab": {
          "base_uri": "https://localhost:8080/"
        },
        "id": "kc_5Z5-XK623",
        "outputId": "1cbbdbd1-b3ac-4e11-b24f-c6aba7a33c8a"
      },
      "execution_count": null,
      "outputs": [
        {
          "output_type": "stream",
          "name": "stdout",
          "text": [
            "Hello, world!\n",
            "Appended line.\n"
          ]
        }
      ]
    }
  ]
}